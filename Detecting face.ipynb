{
 "cells": [
  {
   "cell_type": "code",
   "execution_count": 1,
   "id": "83db27b5",
   "metadata": {},
   "outputs": [],
   "source": [
    "import cv2\n",
    "import numpy as np"
   ]
  },
  {
   "cell_type": "markdown",
   "id": "e0395d7c",
   "metadata": {},
   "source": [
    "## Loading image using OpenCV"
   ]
  },
  {
   "cell_type": "code",
   "execution_count": 2,
   "id": "e2803de3",
   "metadata": {},
   "outputs": [],
   "source": [
    "img=cv2.imread('messy2.jpg')\n",
    "cv2.imshow(\"Messy\",img)\n",
    "cv2.waitKey(0)\n",
    "cv2.destroyAllWindows()"
   ]
  },
  {
   "cell_type": "markdown",
   "id": "342238aa",
   "metadata": {},
   "source": [
    "## FACE DETECTION"
   ]
  },
  {
   "cell_type": "code",
   "execution_count": 3,
   "id": "b219b064",
   "metadata": {},
   "outputs": [],
   "source": [
    "face_cascade=cv2.CascadeClassifier('face.xml')\n",
    "faces=face_cascade.detectMultiScale(img)\n",
    "for (x,y,w,h) in faces:\n",
    "    cv2.rectangle(img,(x,y),(x+w,y+h),(50,50,250),2)\n",
    "cv2.imshow(\"Messy\",img)\n",
    "cv2.waitKey(0)\n",
    "cv2.destroyAllWindows()"
   ]
  },
  {
   "cell_type": "markdown",
   "id": "09c064b4",
   "metadata": {},
   "source": [
    "## EYE DETECTION"
   ]
  },
  {
   "cell_type": "code",
   "execution_count": 4,
   "id": "9175e14d",
   "metadata": {},
   "outputs": [],
   "source": [
    "img=cv2.imread('img.png')\n",
    "face_cascade=cv2.CascadeClassifier('face.xml')\n",
    "eye_cascade=cv2.CascadeClassifier('eye.xml')\n",
    "faces=face_cascade.detectMultiScale(img)\n",
    "for (x,y,w,h) in faces:\n",
    "    single_face=img[y:y+h,x:x+w]\n",
    "    eyes=eye_cascade.detectMultiScale(single_face,1.40)\n",
    "    for (ex,ey,ew,eh) in eyes:\n",
    "        e=cv2.rectangle(single_face,(ex,ey),(ex+ew,ey+eh),(50,250,50),2)\n",
    "cv2.imshow(\"Image\",img)\n",
    "cv2.waitKey(0)\n",
    "cv2.destroyAllWindows()"
   ]
  },
  {
   "cell_type": "markdown",
   "id": "48093624",
   "metadata": {},
   "source": [
    "## SMILE DETECTION"
   ]
  },
  {
   "cell_type": "code",
   "execution_count": 5,
   "id": "e5e9af01",
   "metadata": {},
   "outputs": [],
   "source": [
    "img=cv2.imread('img.jpg')\n",
    "face_cascade=cv2.CascadeClassifier('face.xml')\n",
    "smile_cascade=cv2.CascadeClassifier('smile.xml')\n",
    "faces=face_cascade.detectMultiScale(img,1.3,5)\n",
    "for (x,y,w,h) in faces:\n",
    "    single_face=img[y:y+h,x:x+w]\n",
    "    smiles=smile_cascade.detectMultiScale(single_face,1.35,25)\n",
    "    for (sx,sy,sw,sh) in smiles:\n",
    "        cv2.rectangle(single_face,(sx,sy),(sx+sw,sy+sh),(250,50,50),2)\n",
    "cv2.imshow(\"Image\",img)\n",
    "cv2.waitKey(0)\n",
    "cv2.destroyAllWindows()"
   ]
  },
  {
   "cell_type": "markdown",
   "id": "9cc3d452",
   "metadata": {},
   "source": [
    "## FACE, EYES, SMILE DETECTION IN ONE IMAGE"
   ]
  },
  {
   "cell_type": "code",
   "execution_count": 6,
   "id": "afa595ec",
   "metadata": {},
   "outputs": [],
   "source": [
    "img=cv2.imread('img.jpg')\n",
    "face_cascade=cv2.CascadeClassifier('face.xml')\n",
    "smile_cascade=cv2.CascadeClassifier('smile.xml')\n",
    "eye_cascade=cv2.CascadeClassifier('eye.xml')\n",
    "faces=face_cascade.detectMultiScale(img,1.3,5)\n",
    "for (x,y,w,h) in faces:\n",
    "    cv2.rectangle(img,(x,y),(x+w,y+h),(50,50,250),2)\n",
    "    single_face=img[y:y+h,x:x+w]\n",
    "    eyes=eye_cascade.detectMultiScale(single_face,1.35)\n",
    "    smiles=smile_cascade.detectMultiScale(single_face,1.35,25)\n",
    "    for (ex,ey,ew,eh) in eyes:\n",
    "        cv2.rectangle(single_face,(ex,ey),(ex+ew,ey+eh),(50,250,50),2)\n",
    "    for (sx,sy,sw,sh) in smiles:\n",
    "        cv2.rectangle(single_face,(sx,sy),(sx+sw,sy+sh),(250,50,50),2)\n",
    "cv2.imshow(\"Image\",img)\n",
    "cv2.waitKey(0)\n",
    "cv2.destroyAllWindows()"
   ]
  },
  {
   "cell_type": "markdown",
   "id": "4a9d9b53",
   "metadata": {},
   "source": [
    "## Detecting face in live webcam"
   ]
  },
  {
   "cell_type": "code",
   "execution_count": null,
   "id": "cb9d86cb",
   "metadata": {},
   "outputs": [],
   "source": [
    "import cv2\n",
    "cam=cv2.VideoCapture(0)\n",
    "face_cascade=cv2.CascadeClassifier('face.xml')\n",
    "while True:\n",
    "    a,img = cam.read()\n",
    "    img=cv2.flip(img,1)\n",
    "    faces=face_cascade.detectMultiScale(img)\n",
    "    for (x,y,w,h) in faces:\n",
    "        cv2.rectangle(img,(x,y),(x+w,y+h),(255,0,0),2)\n",
    "    cv2.imshow(\"webcam\",img)\n",
    "    if cv2.waitKey(1)==13:\n",
    "        break\n",
    "cam.release()\n",
    "cv2.destroyAllWindows()"
   ]
  },
  {
   "cell_type": "markdown",
   "id": "6b04de4a",
   "metadata": {},
   "source": [
    "## Screenshots of Face "
   ]
  },
  {
   "cell_type": "code",
   "execution_count": null,
   "id": "2ec974e1",
   "metadata": {},
   "outputs": [],
   "source": [
    "import cv2\n",
    "cam=cv2.VideoCapture(0)\n",
    "face_cascade=cv2.CascadeClassifier('face.xml')\n",
    "path=\"F:\\megha's\\screen\"\n",
    "while True:\n",
    "    a,img = cam.read()\n",
    "    img=cv2.flip(img,1)\n",
    "    faces=face_cascade.detectMultiScale(img)\n",
    "    for (x,y,w,h) in faces:\n",
    "        cv2.rectangle(img,(x,y),(x+w,y+h),(255,0,0),2)\n",
    "    for i in range(51):\n",
    "        img_name=path+'\\img'+str(i)+'.jpg'\n",
    "        cv2.imwrite(img_name,img[y:y+h,x:x+w])\n",
    "        time.sleep(0.5)\n",
    "    cv2.imshow(\"webcam\",img)\n",
    "    if cv2.waitKey(1)==13:\n",
    "        break\n",
    "cam.release()\n",
    "cv2.destroyAllWindows()"
   ]
  }
 ],
 "metadata": {
  "kernelspec": {
   "display_name": "Python 3",
   "language": "python",
   "name": "python3"
  },
  "language_info": {
   "codemirror_mode": {
    "name": "ipython",
    "version": 3
   },
   "file_extension": ".py",
   "mimetype": "text/x-python",
   "name": "python",
   "nbconvert_exporter": "python",
   "pygments_lexer": "ipython3",
   "version": "3.9.5"
  }
 },
 "nbformat": 4,
 "nbformat_minor": 5
}
